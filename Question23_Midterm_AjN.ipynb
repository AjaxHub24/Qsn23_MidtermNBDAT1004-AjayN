{
 "cells": [
  {
   "cell_type": "markdown",
   "id": "b1b22917",
   "metadata": {},
   "source": [
    "Question 23:\n",
    "\n",
    "In a jupyter notebook solve the following question using python. Please upload the notebook to GitHub and provide the link submission box below.\n",
    "\n",
    "\n",
    "\n",
    "Develop a recursive function tough() that takes two nonnegative integer arguments and outputs a pattern as shown below. Hint: The first argument represents the indentation of the pattern, where the second argument -- always a pattern of 2 indicates the number *s in the longest line of *s in the pattern"
   ]
  },
  {
   "cell_type": "code",
   "execution_count": 28,
   "id": "c83b6d5a",
   "metadata": {},
   "outputs": [],
   "source": [
    "def tough(indentation, number):\n",
    "    \n",
    "    if(number > 0):\n",
    "        \n",
    "        tough(indentation, number//2);             #creates stars for half the number\n",
    "        \n",
    "        print(\" \" * indentation + \"*\" * number);   #print stars\n",
    "        \n",
    "        tough(indentation + 1, number//2);         #draws stars for half the number, increasing indentation\n",
    "    "
   ]
  },
  {
   "cell_type": "code",
   "execution_count": 29,
   "id": "e1e2d3e3",
   "metadata": {},
   "outputs": [],
   "source": [
    "tough(0,0)"
   ]
  },
  {
   "cell_type": "code",
   "execution_count": 30,
   "id": "1aa27de1",
   "metadata": {},
   "outputs": [
    {
     "name": "stdout",
     "output_type": "stream",
     "text": [
      "*\n"
     ]
    }
   ],
   "source": [
    "tough(0,1)"
   ]
  },
  {
   "cell_type": "code",
   "execution_count": 31,
   "id": "3736c4cf",
   "metadata": {},
   "outputs": [
    {
     "name": "stdout",
     "output_type": "stream",
     "text": [
      "*\n",
      "**\n",
      " *\n"
     ]
    }
   ],
   "source": [
    "tough(0,2)"
   ]
  },
  {
   "cell_type": "code",
   "execution_count": 32,
   "id": "97d8c3b6",
   "metadata": {},
   "outputs": [
    {
     "name": "stdout",
     "output_type": "stream",
     "text": [
      "*\n",
      "**\n",
      " *\n",
      "****\n",
      " *\n",
      " **\n",
      "  *\n"
     ]
    }
   ],
   "source": [
    "tough(0,4)"
   ]
  },
  {
   "cell_type": "code",
   "execution_count": null,
   "id": "bc0660b5",
   "metadata": {},
   "outputs": [],
   "source": []
  }
 ],
 "metadata": {
  "kernelspec": {
   "display_name": "Python 3 (ipykernel)",
   "language": "python",
   "name": "python3"
  },
  "language_info": {
   "codemirror_mode": {
    "name": "ipython",
    "version": 3
   },
   "file_extension": ".py",
   "mimetype": "text/x-python",
   "name": "python",
   "nbconvert_exporter": "python",
   "pygments_lexer": "ipython3",
   "version": "3.11.7"
  }
 },
 "nbformat": 4,
 "nbformat_minor": 5
}
